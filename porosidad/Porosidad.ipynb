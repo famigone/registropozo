{
 "cells": [
  {
   "cell_type": "markdown",
   "metadata": {},
   "source": [
    "# 5 Steps in Pandas to Process Petrophysical Well Logs(part2)"
   ]
  },
  {
   "cell_type": "code",
   "execution_count": null,
   "metadata": {},
   "outputs": [],
   "source": []
  },
  {
   "cell_type": "markdown",
   "metadata": {},
   "source": [
    "#### Dataset: 1050383876v2.csv.  "
   ]
  },
  {
   "cell_type": "markdown",
   "metadata": {},
   "source": [
    "En este trabajos se abordan los siguientes pasos: \n",
    "\n",
    "   1- Definición de la función de análisis\n",
    "   2- Aplicación de la función\n",
    "   3- Función Lambda\n",
    "   4- Función de corte\n",
    "   5- Visualización "
   ]
  },
  {
   "cell_type": "code",
   "execution_count": 3,
   "metadata": {},
   "outputs": [],
   "source": [
    "import numpy as np\n",
    "import pandas as pd\n",
    "import matplotlib.pyplot as plt\n",
    "import seaborn as sns\n",
    "%matplotlib inline"
   ]
  },
  {
   "cell_type": "markdown",
   "metadata": {},
   "source": [
    "#### Levantamos el dataset en el dataframe pandas"
   ]
  },
  {
   "cell_type": "code",
   "execution_count": 2,
   "metadata": {
    "scrolled": true
   },
   "outputs": [
    {
     "data": {
      "text/html": [
       "<div>\n",
       "<style scoped>\n",
       "    .dataframe tbody tr th:only-of-type {\n",
       "        vertical-align: middle;\n",
       "    }\n",
       "\n",
       "    .dataframe tbody tr th {\n",
       "        vertical-align: top;\n",
       "    }\n",
       "\n",
       "    .dataframe thead th {\n",
       "        text-align: right;\n",
       "    }\n",
       "</style>\n",
       "<table border=\"1\" class=\"dataframe\">\n",
       "  <thead>\n",
       "    <tr style=\"text-align: right;\">\n",
       "      <th></th>\n",
       "      <th>DEPT</th>\n",
       "      <th>CNPOR</th>\n",
       "      <th>GR</th>\n",
       "      <th>RHOB</th>\n",
       "      <th>DT</th>\n",
       "      <th>MELCAL</th>\n",
       "      <th>SPOR</th>\n",
       "      <th>Vsh</th>\n",
       "    </tr>\n",
       "  </thead>\n",
       "  <tbody>\n",
       "    <tr>\n",
       "      <th>0</th>\n",
       "      <td>1000.0</td>\n",
       "      <td>4.62</td>\n",
       "      <td>10.82</td>\n",
       "      <td>2.93</td>\n",
       "      <td>51.77</td>\n",
       "      <td>8.26</td>\n",
       "      <td>2.95</td>\n",
       "      <td>0.02</td>\n",
       "    </tr>\n",
       "    <tr>\n",
       "      <th>1</th>\n",
       "      <td>1000.5</td>\n",
       "      <td>4.29</td>\n",
       "      <td>11.34</td>\n",
       "      <td>2.94</td>\n",
       "      <td>51.98</td>\n",
       "      <td>8.22</td>\n",
       "      <td>3.10</td>\n",
       "      <td>0.02</td>\n",
       "    </tr>\n",
       "    <tr>\n",
       "      <th>2</th>\n",
       "      <td>1001.0</td>\n",
       "      <td>4.14</td>\n",
       "      <td>11.72</td>\n",
       "      <td>2.93</td>\n",
       "      <td>52.10</td>\n",
       "      <td>8.20</td>\n",
       "      <td>3.18</td>\n",
       "      <td>0.02</td>\n",
       "    </tr>\n",
       "    <tr>\n",
       "      <th>3</th>\n",
       "      <td>1001.5</td>\n",
       "      <td>4.03</td>\n",
       "      <td>13.02</td>\n",
       "      <td>2.91</td>\n",
       "      <td>52.13</td>\n",
       "      <td>8.20</td>\n",
       "      <td>3.20</td>\n",
       "      <td>0.02</td>\n",
       "    </tr>\n",
       "    <tr>\n",
       "      <th>4</th>\n",
       "      <td>1002.0</td>\n",
       "      <td>3.94</td>\n",
       "      <td>12.72</td>\n",
       "      <td>2.88</td>\n",
       "      <td>52.07</td>\n",
       "      <td>8.19</td>\n",
       "      <td>3.16</td>\n",
       "      <td>0.02</td>\n",
       "    </tr>\n",
       "  </tbody>\n",
       "</table>\n",
       "</div>"
      ],
      "text/plain": [
       "     DEPT  CNPOR     GR  RHOB     DT  MELCAL  SPOR   Vsh\n",
       "0  1000.0   4.62  10.82  2.93  51.77    8.26  2.95  0.02\n",
       "1  1000.5   4.29  11.34  2.94  51.98    8.22  3.10  0.02\n",
       "2  1001.0   4.14  11.72  2.93  52.10    8.20  3.18  0.02\n",
       "3  1001.5   4.03  13.02  2.91  52.13    8.20  3.20  0.02\n",
       "4  1002.0   3.94  12.72  2.88  52.07    8.19  3.16  0.02"
      ]
     },
     "execution_count": 2,
     "metadata": {},
     "output_type": "execute_result"
    }
   ],
   "source": [
    "df = pd.read_csv('1050383876v2.csv')\n",
    "df.head()"
   ]
  },
  {
   "cell_type": "markdown",
   "metadata": {},
   "source": [
    "### 1- Definición de la Function"
   ]
  },
  {
   "cell_type": "markdown",
   "metadata": {},
   "source": []
  },
  {
   "cell_type": "markdown",
   "metadata": {},
   "source": [
    "#### Cálculo de la porosidad desde el log de densidad del registro de pozo "
   ]
  },
  {
   "cell_type": "markdown",
   "metadata": {},
   "source": [
    "Existen varios enfoques para calcular la porosidad a partir de registros petrofísicos de pozos. En el registro de pozo viene una lectura de densidad del medio rocoso. Conocer la densidad del fluido que llena la porosidad de la roca y la densidad granular puede ayudarnos a calcular el porcentaje de áreas vacías de las rocas. "
   ]
  },
  {
   "cell_type": "code",
   "execution_count": 5,
   "metadata": {},
   "outputs": [],
   "source": [
    "def den(rb, rf, rm):\n",
    "    # rb = densidad estimada a partir de las lecturas del registro del pozo\n",
    "    # rf = densidad del fluido\n",
    "    # rm = matriz de densidad rocosa \n",
    "    return (rm-rb)*100/(rm-rf)"
   ]
  },
  {
   "cell_type": "markdown",
   "metadata": {},
   "source": [
    "### 2- Aplicación de la función "
   ]
  },
  {
   "cell_type": "markdown",
   "metadata": {},
   "source": [
    "Utilizando la función apply, se puede aplicar una función predefinida (en este caso, la porosidad de la densidad) a cada uno de los elementos del DataFrame, ya sea en dirección de columna o de fila."
   ]
  },
  {
   "cell_type": "code",
   "execution_count": 6,
   "metadata": {},
   "outputs": [
    {
     "data": {
      "text/html": [
       "<div>\n",
       "<style scoped>\n",
       "    .dataframe tbody tr th:only-of-type {\n",
       "        vertical-align: middle;\n",
       "    }\n",
       "\n",
       "    .dataframe tbody tr th {\n",
       "        vertical-align: top;\n",
       "    }\n",
       "\n",
       "    .dataframe thead th {\n",
       "        text-align: right;\n",
       "    }\n",
       "</style>\n",
       "<table border=\"1\" class=\"dataframe\">\n",
       "  <thead>\n",
       "    <tr style=\"text-align: right;\">\n",
       "      <th></th>\n",
       "      <th>DEPT</th>\n",
       "      <th>CNPOR</th>\n",
       "      <th>GR</th>\n",
       "      <th>RHOB</th>\n",
       "      <th>DT</th>\n",
       "      <th>MELCAL</th>\n",
       "      <th>SPOR</th>\n",
       "      <th>Vsh</th>\n",
       "      <th>DNPOR</th>\n",
       "    </tr>\n",
       "  </thead>\n",
       "  <tbody>\n",
       "    <tr>\n",
       "      <th>0</th>\n",
       "      <td>1000.0</td>\n",
       "      <td>4.62</td>\n",
       "      <td>10.82</td>\n",
       "      <td>2.93</td>\n",
       "      <td>51.77</td>\n",
       "      <td>8.26</td>\n",
       "      <td>2.95</td>\n",
       "      <td>0.02</td>\n",
       "      <td>-12.865497</td>\n",
       "    </tr>\n",
       "    <tr>\n",
       "      <th>1</th>\n",
       "      <td>1000.5</td>\n",
       "      <td>4.29</td>\n",
       "      <td>11.34</td>\n",
       "      <td>2.94</td>\n",
       "      <td>51.98</td>\n",
       "      <td>8.22</td>\n",
       "      <td>3.10</td>\n",
       "      <td>0.02</td>\n",
       "      <td>-13.450292</td>\n",
       "    </tr>\n",
       "    <tr>\n",
       "      <th>2</th>\n",
       "      <td>1001.0</td>\n",
       "      <td>4.14</td>\n",
       "      <td>11.72</td>\n",
       "      <td>2.93</td>\n",
       "      <td>52.10</td>\n",
       "      <td>8.20</td>\n",
       "      <td>3.18</td>\n",
       "      <td>0.02</td>\n",
       "      <td>-12.865497</td>\n",
       "    </tr>\n",
       "    <tr>\n",
       "      <th>3</th>\n",
       "      <td>1001.5</td>\n",
       "      <td>4.03</td>\n",
       "      <td>13.02</td>\n",
       "      <td>2.91</td>\n",
       "      <td>52.13</td>\n",
       "      <td>8.20</td>\n",
       "      <td>3.20</td>\n",
       "      <td>0.02</td>\n",
       "      <td>-11.695906</td>\n",
       "    </tr>\n",
       "    <tr>\n",
       "      <th>4</th>\n",
       "      <td>1002.0</td>\n",
       "      <td>3.94</td>\n",
       "      <td>12.72</td>\n",
       "      <td>2.88</td>\n",
       "      <td>52.07</td>\n",
       "      <td>8.19</td>\n",
       "      <td>3.16</td>\n",
       "      <td>0.02</td>\n",
       "      <td>-9.941520</td>\n",
       "    </tr>\n",
       "  </tbody>\n",
       "</table>\n",
       "</div>"
      ],
      "text/plain": [
       "     DEPT  CNPOR     GR  RHOB     DT  MELCAL  SPOR   Vsh      DNPOR\n",
       "0  1000.0   4.62  10.82  2.93  51.77    8.26  2.95  0.02 -12.865497\n",
       "1  1000.5   4.29  11.34  2.94  51.98    8.22  3.10  0.02 -13.450292\n",
       "2  1001.0   4.14  11.72  2.93  52.10    8.20  3.18  0.02 -12.865497\n",
       "3  1001.5   4.03  13.02  2.91  52.13    8.20  3.20  0.02 -11.695906\n",
       "4  1002.0   3.94  12.72  2.88  52.07    8.19  3.16  0.02  -9.941520"
      ]
     },
     "execution_count": 6,
     "metadata": {},
     "output_type": "execute_result"
    }
   ],
   "source": [
    "df[\"DNPOR\"]=df['RHOB'].apply(den, rf=1, rm=2.71 )\n",
    "df.head()"
   ]
  },
  {
   "cell_type": "markdown",
   "metadata": {},
   "source": [
    "Como la función den toma 3 valores (rb, rf, rm), podemos introducir la columna principal o índice del conjunto de datos (rb =df['RHOB']) y utilizar la función apply para definir las constantes rf y rm como entradas manuales. Aquí por sugerencia bibliográfica asumimos que el contenido de fluido es agua es de densidad 1 y el mineral dominante es Calcita con una densidad de 2.71. La porosidad de la densidad se almacena en una nueva columna llamada DNPOR."
   ]
  },
  {
   "cell_type": "markdown",
   "metadata": {},
   "source": [
    "### 3- Función Lambda"
   ]
  },
  {
   "cell_type": "markdown",
   "metadata": {},
   "source": [
    "La función lambda es una función simple de 1 línea que no tiene palabras clave def o return. De hecho, están implícitas. Para utilizar esta función, tenemos que escribir lambda seguido de los parámetros. Luego, los dos puntos van antes del argumento return."
   ]
  },
  {
   "cell_type": "markdown",
   "metadata": {},
   "source": [
    "#### Cálculo de la porosidad total a partir de la densidad y la porosidad de neutrones "
   ]
  },
  {
   "cell_type": "code",
   "execution_count": 9,
   "metadata": {},
   "outputs": [],
   "source": [
    "Tot_por = lambda DN,CN: (DN+CN)/2"
   ]
  },
  {
   "cell_type": "markdown",
   "metadata": {},
   "source": [
    "La porosidad total es la media de la densidad y la porosidad medida con el registro denominado \"netrónico\""
   ]
  },
  {
   "cell_type": "markdown",
   "metadata": {},
   "source": [
    "El nombre de la función es Tot_por. Para la función lambda, DN y CN son los parámetros de densidad y neutrones seguidos de dos puntos. La media de estas dos entradas será devuelta por la función."
   ]
  },
  {
   "cell_type": "code",
   "execution_count": 29,
   "metadata": {},
   "outputs": [
    {
     "data": {
      "text/html": [
       "<div>\n",
       "<style scoped>\n",
       "    .dataframe tbody tr th:only-of-type {\n",
       "        vertical-align: middle;\n",
       "    }\n",
       "\n",
       "    .dataframe tbody tr th {\n",
       "        vertical-align: top;\n",
       "    }\n",
       "\n",
       "    .dataframe thead th {\n",
       "        text-align: right;\n",
       "    }\n",
       "</style>\n",
       "<table border=\"1\" class=\"dataframe\">\n",
       "  <thead>\n",
       "    <tr style=\"text-align: right;\">\n",
       "      <th></th>\n",
       "      <th>DEPT</th>\n",
       "      <th>CNPOR</th>\n",
       "      <th>GR</th>\n",
       "      <th>RHOB</th>\n",
       "      <th>DT</th>\n",
       "      <th>MELCAL</th>\n",
       "      <th>SPOR</th>\n",
       "      <th>Vsh</th>\n",
       "      <th>DNPOR</th>\n",
       "      <th>TPOR</th>\n",
       "    </tr>\n",
       "  </thead>\n",
       "  <tbody>\n",
       "    <tr>\n",
       "      <th>0</th>\n",
       "      <td>1000.0</td>\n",
       "      <td>4.62</td>\n",
       "      <td>10.82</td>\n",
       "      <td>2.93</td>\n",
       "      <td>51.77</td>\n",
       "      <td>8.26</td>\n",
       "      <td>2.95</td>\n",
       "      <td>0.02</td>\n",
       "      <td>-13.529412</td>\n",
       "      <td>-4.454706</td>\n",
       "    </tr>\n",
       "    <tr>\n",
       "      <th>1</th>\n",
       "      <td>1000.5</td>\n",
       "      <td>4.29</td>\n",
       "      <td>11.34</td>\n",
       "      <td>2.94</td>\n",
       "      <td>51.98</td>\n",
       "      <td>8.22</td>\n",
       "      <td>3.10</td>\n",
       "      <td>0.02</td>\n",
       "      <td>-14.117647</td>\n",
       "      <td>-4.913824</td>\n",
       "    </tr>\n",
       "    <tr>\n",
       "      <th>2</th>\n",
       "      <td>1001.0</td>\n",
       "      <td>4.14</td>\n",
       "      <td>11.72</td>\n",
       "      <td>2.93</td>\n",
       "      <td>52.10</td>\n",
       "      <td>8.20</td>\n",
       "      <td>3.18</td>\n",
       "      <td>0.02</td>\n",
       "      <td>-13.529412</td>\n",
       "      <td>-4.694706</td>\n",
       "    </tr>\n",
       "    <tr>\n",
       "      <th>3</th>\n",
       "      <td>1001.5</td>\n",
       "      <td>4.03</td>\n",
       "      <td>13.02</td>\n",
       "      <td>2.91</td>\n",
       "      <td>52.13</td>\n",
       "      <td>8.20</td>\n",
       "      <td>3.20</td>\n",
       "      <td>0.02</td>\n",
       "      <td>-12.352941</td>\n",
       "      <td>-4.161471</td>\n",
       "    </tr>\n",
       "    <tr>\n",
       "      <th>4</th>\n",
       "      <td>1002.0</td>\n",
       "      <td>3.94</td>\n",
       "      <td>12.72</td>\n",
       "      <td>2.88</td>\n",
       "      <td>52.07</td>\n",
       "      <td>8.19</td>\n",
       "      <td>3.16</td>\n",
       "      <td>0.02</td>\n",
       "      <td>-10.588235</td>\n",
       "      <td>-3.324118</td>\n",
       "    </tr>\n",
       "  </tbody>\n",
       "</table>\n",
       "</div>"
      ],
      "text/plain": [
       "     DEPT  CNPOR     GR  RHOB     DT  MELCAL  SPOR   Vsh      DNPOR      TPOR\n",
       "0  1000.0   4.62  10.82  2.93  51.77    8.26  2.95  0.02 -13.529412 -4.454706\n",
       "1  1000.5   4.29  11.34  2.94  51.98    8.22  3.10  0.02 -14.117647 -4.913824\n",
       "2  1001.0   4.14  11.72  2.93  52.10    8.20  3.18  0.02 -13.529412 -4.694706\n",
       "3  1001.5   4.03  13.02  2.91  52.13    8.20  3.20  0.02 -12.352941 -4.161471\n",
       "4  1002.0   3.94  12.72  2.88  52.07    8.19  3.16  0.02 -10.588235 -3.324118"
      ]
     },
     "execution_count": 29,
     "metadata": {},
     "output_type": "execute_result"
    }
   ],
   "source": [
    "df['TPOR'] = Tot_por(df['CNPOR'], df[\"DNPOR\"])\n",
    "df.head()"
   ]
  },
  {
   "cell_type": "markdown",
   "metadata": {},
   "source": [
    "Llamando a la función Tot_por e introduciendo las columnas correspondientes de DataFrame como entrada se creará la porosidad total que se almacenará en una nueva columna llamada TPOR en el conjunto de datos."
   ]
  },
  {
   "cell_type": "markdown",
   "metadata": {},
   "source": [
    "### 4- Función Cut "
   ]
  },
  {
   "cell_type": "markdown",
   "metadata": {},
   "source": [
    "Cuando necesitemos segmentar y ordenar los valores de los datos en agrupamientos específicos, podemos utilizar la función Cut. Vamos a utilizar esta función para definir facies (conjunto de rocas sedimentarias) simples basadas en propiedades petrofísicas."
   ]
  },
  {
   "cell_type": "markdown",
   "metadata": {},
   "source": [
    "#### categorización de Facies "
   ]
  },
  {
   "cell_type": "code",
   "execution_count": 74,
   "metadata": {},
   "outputs": [],
   "source": [
    "df['facies_gr'] = pd.cut(df['GR'], bins=[0,40,300], labels=['clean', 'shaly'] )"
   ]
  },
  {
   "cell_type": "markdown",
   "metadata": {},
   "source": [
    "La clasificación de las \"facies\" es un tema muy amplio en geociencias y pueden entrar en juego varias métricas, pero acá lo veremos de forma muy simple. Basándonos en las lecturas de GR en los registros de pozos, podemos identificar las formaciones limpias de las limosas (es decir más porosas o arcillosas). Se añade una nueva columna al conjunto de datos basada en las lecturas de GR, que se clasifican entre 0 y 40 (limpias), y entre 40 y 300 (arcillosas)."
   ]
  },
  {
   "cell_type": "markdown",
   "metadata": {},
   "source": [
    "### 5- Visualización"
   ]
  },
  {
   "cell_type": "markdown",
   "metadata": {},
   "source": [
    "La biblioteca matplotlib es común en python para usos de vizualización sin embargo, preferimos utilizar la biblioteca Seaborn por su simplicidad. Deseamos visualizar un gráfico de dispersión de la porosidad de densidad frente a la porosidad de neutrones con el color de la leyenda de facies que definimos en el punto anterior. Esto es simplemente accesible por una línea de código, mientras que en matplotlib requiere un bucle for.\n"
   ]
  },
  {
   "cell_type": "code",
   "execution_count": 115,
   "metadata": {
    "scrolled": true
   },
   "outputs": [
    {
     "data": {
      "image/png": "[encoded data removed]",
      "text/plain": [
       "<Figure size 423x360 with 1 Axes>"
      ]
     },
     "metadata": {
      "needs_background": "light"
     },
     "output_type": "display_data"
    }
   ],
   "source": [
    "ab = sns.lmplot(x='DNPOR', y='SPOR', hue='facies_gr', data=df)\n",
    "plt.title('Sonic Porosity vs. Density Porosity', pad=-10)\n",
    "plt.savefig(fname='ABD.png',dpi = 300)"
   ]
  },
  {
   "cell_type": "code",
   "execution_count": null,
   "metadata": {},
   "outputs": [],
   "source": []
  }
 ],
 "metadata": {
  "kernelspec": {
   "display_name": "Python 3",
   "language": "python",
   "name": "python3"
  },
  "language_info": {
   "codemirror_mode": {
    "name": "ipython",
    "version": 3
   },
   "file_extension": ".py",
   "mimetype": "text/x-python",
   "name": "python",
   "nbconvert_exporter": "python",
   "pygments_lexer": "ipython3",
   "version": "3.8.5"
  }
 },
 "nbformat": 4,
 "nbformat_minor": 4
}
